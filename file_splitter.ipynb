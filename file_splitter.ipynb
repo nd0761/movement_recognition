{
 "cells": [
  {
   "cell_type": "code",
   "execution_count": 61,
   "metadata": {},
   "outputs": [],
   "source": [
    "name_of_actions = [\"clockwise-rotation\", \"counterclockwise-rotation\", \"eight\", \n",
    "                   \"flip\", \"horizontal-rotation\", \"horizontal-x-shake\", \"horizontal-y-shake\", \n",
    "                   \"infinity\", \"vertical-x-shake\", \"vertical-y-shake\"]\n",
    "exten = \".csv\"\n",
    "begin_string = \"single_action_\"\n",
    "type_of_data = [\"acc\", \"gyro\"]\n",
    "folder = \"data_new_actions/\"\n",
    "\n",
    "new_folder = \"split_data/\"\n",
    "answer_context = [0, 0, 0, 0, 0, 0, 0, 0, 0, 0]"
   ]
  },
  {
   "cell_type": "code",
   "execution_count": 54,
   "metadata": {},
   "outputs": [],
   "source": [
    "import csv\n",
    "import os"
   ]
  },
  {
   "cell_type": "code",
   "execution_count": 55,
   "metadata": {},
   "outputs": [],
   "source": [
    "step = 45"
   ]
  },
  {
   "cell_type": "code",
   "execution_count": 63,
   "metadata": {},
   "outputs": [
    {
     "name": "stdout",
     "output_type": "stream",
     "text": [
      "Creation of the directory split_data/ failedclockwise-rotation\n",
      "Successfully created the directory split_data/ clockwise-rotation\n",
      "Successfully created the directory split_data/ clockwise-rotation\n",
      "Creation of the directory split_data/ failedcounterclockwise-rotation\n",
      "Successfully created the directory split_data/ counterclockwise-rotation\n",
      "Successfully created the directory split_data/ counterclockwise-rotation\n",
      "Creation of the directory split_data/ failedeight\n",
      "Successfully created the directory split_data/ eight\n",
      "Successfully created the directory split_data/ eight\n",
      "Creation of the directory split_data/ failedflip\n",
      "Successfully created the directory split_data/ flip\n",
      "Successfully created the directory split_data/ flip\n",
      "Creation of the directory split_data/ failedhorizontal-rotation\n",
      "Successfully created the directory split_data/ horizontal-rotation\n",
      "Successfully created the directory split_data/ horizontal-rotation\n",
      "Creation of the directory split_data/ failedhorizontal-x-shake\n",
      "Successfully created the directory split_data/ horizontal-x-shake\n",
      "Successfully created the directory split_data/ horizontal-x-shake\n",
      "Creation of the directory split_data/ failedhorizontal-y-shake\n",
      "Successfully created the directory split_data/ horizontal-y-shake\n",
      "Successfully created the directory split_data/ horizontal-y-shake\n",
      "Creation of the directory split_data/ failedinfinity\n",
      "Successfully created the directory split_data/ infinity\n",
      "Successfully created the directory split_data/ infinity\n",
      "Creation of the directory split_data/ failedvertical-x-shake\n",
      "Successfully created the directory split_data/ vertical-x-shake\n",
      "Successfully created the directory split_data/ vertical-x-shake\n",
      "Creation of the directory split_data/ failedvertical-y-shake\n",
      "Successfully created the directory split_data/ vertical-y-shake\n",
      "Successfully created the directory split_data/ vertical-y-shake\n"
     ]
    }
   ],
   "source": [
    "for name in name_of_actions:\n",
    "    try:\n",
    "        os.mkdir(new_folder + name)\n",
    "    except OSError:\n",
    "        print (\"Creation of the directory %s failed\" % new_folder + name)\n",
    "    else:\n",
    "        print (\"Successfully created the directory %s \" % new_folder + name)\n",
    "    try:\n",
    "        os.mkdir(new_folder + name + '/' + 'acc')\n",
    "    except OSError:\n",
    "        print (\"Creation of the directory %s failed\" % new_folder + name)\n",
    "    else:\n",
    "        print (\"Successfully created the directory %s \" % new_folder + name)\n",
    "    try:\n",
    "        os.mkdir(new_folder + name + '/' + 'gyro')\n",
    "    except OSError:\n",
    "        print (\"Creation of the directory %s failed\" % new_folder + name)\n",
    "    else:\n",
    "        print (\"Successfully created the directory %s \" % new_folder + name)"
   ]
  },
  {
   "cell_type": "code",
   "execution_count": 57,
   "metadata": {},
   "outputs": [],
   "source": [
    "def split_file(filename, new_dir, from_i, to_i, ind):\n",
    "    list_of_data = []\n",
    "    with open(filename, newline='') as csvfile:\n",
    "        spamreader = csv.reader(csvfile, delimiter=',', quotechar='|')\n",
    "        cnt = 0\n",
    "        for row in spamreader:\n",
    "            if cnt > to_i:\n",
    "                break\n",
    "            if cnt < from_i:\n",
    "                cnt += 1\n",
    "                continue\n",
    "            cnt += 1\n",
    "            list_of_data.append(row[:3])\n",
    "    \n",
    "    new_filename = new_dir + str(ind) + exten\n",
    "    file = open(new_filename, 'w+')\n",
    "    writer = csv.writer(file)\n",
    "    for row in list_of_data:\n",
    "        writer.writerow(row)\n",
    "    file.close()"
   ]
  },
  {
   "cell_type": "code",
   "execution_count": 65,
   "metadata": {},
   "outputs": [],
   "source": [
    "answer_ind = 0\n",
    "for name in name_of_actions:\n",
    "    for t in type_of_data:\n",
    "        filename = folder + begin_string + t + '_' + name + exten\n",
    "        new_dir = new_folder + name + '/' + t + '/'\n",
    "        ind = 0\n",
    "        from_i = 0\n",
    "        to_i = step\n",
    "        while to_i <= 5912:\n",
    "            split_file(filename, new_dir, from_i, to_i, ind, answer)\n",
    "            ind += 1\n",
    "            if to_i == step:\n",
    "                to_i += step\n",
    "            else:\n",
    "                to_i += step\n",
    "                from_i += step\n",
    "    \n",
    "    \n",
    "    answer = answer_context.copy()\n",
    "    answer[answer_ind] = 1\n",
    "    \n",
    "    answer_file = new_folder + name + '/' + \"answer\" + exten\n",
    "    file = open(answer_file, 'w+')\n",
    "    writer = csv.writer(file)\n",
    "    writer.writerow(answer)\n",
    "    file.close()\n",
    "    answer_ind += 1\n",
    "        \n",
    "        "
   ]
  },
  {
   "cell_type": "code",
   "execution_count": null,
   "metadata": {},
   "outputs": [],
   "source": []
  }
 ],
 "metadata": {
  "kernelspec": {
   "display_name": "Python 3",
   "language": "python",
   "name": "python3"
  },
  "language_info": {
   "codemirror_mode": {
    "name": "ipython",
    "version": 3
   },
   "file_extension": ".py",
   "mimetype": "text/x-python",
   "name": "python",
   "nbconvert_exporter": "python",
   "pygments_lexer": "ipython3",
   "version": "3.7.4"
  }
 },
 "nbformat": 4,
 "nbformat_minor": 2
}
