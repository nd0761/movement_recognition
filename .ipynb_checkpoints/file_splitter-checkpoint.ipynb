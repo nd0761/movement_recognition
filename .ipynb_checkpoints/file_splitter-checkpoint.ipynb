{
 "cells": [
  {
   "cell_type": "code",
   "execution_count": 14,
   "metadata": {},
   "outputs": [],
   "source": [
    "name_of_actions = [\"clockwise-rotation\", \"counterclockwise-rotation\", \"eight\", \n",
    "                   \"flip\", \"horizontal-rotation\", \"horizontal-x-shake\", \"horizontal-y-shake\", \n",
    "                   \"infinity\", \"vertical-x-shake\", \"vertical-y-shake\", \"hold\"]\n",
    "exten = \".csv\"\n",
    "begin_string = \"single_action_\"\n",
    "type_of_data = [\"acc\", \"gyro\"]\n",
    "folder = \"data_actions_transformed_new/\"\n",
    "#folder = \"data_actions_new/\"\n",
    "\n",
    "new_folder = \"split_data_transformed_longer/\"\n",
    "#new_folder = \"split_data_longer/\"\n",
    "answer_context = [0, 0, 0, 0, 0, 0, 0, 0, 0, 0, 0]"
   ]
  },
  {
   "cell_type": "code",
   "execution_count": 15,
   "metadata": {},
   "outputs": [],
   "source": [
    "import csv\n",
    "import os"
   ]
  },
  {
   "cell_type": "code",
   "execution_count": 16,
   "metadata": {},
   "outputs": [],
   "source": [
    "step = 90"
   ]
  },
  {
   "cell_type": "code",
   "execution_count": 17,
   "metadata": {},
   "outputs": [
    {
     "name": "stdout",
     "output_type": "stream",
     "text": [
      "Successfully created the directory split_data_transformed_longer_and_new/ clockwise-rotation\n",
      "Successfully created the directory split_data_transformed_longer_and_new/ clockwise-rotation\n",
      "Successfully created the directory split_data_transformed_longer_and_new/ clockwise-rotation\n",
      "Successfully created the directory split_data_transformed_longer_and_new/ counterclockwise-rotation\n",
      "Successfully created the directory split_data_transformed_longer_and_new/ counterclockwise-rotation\n",
      "Successfully created the directory split_data_transformed_longer_and_new/ counterclockwise-rotation\n",
      "Successfully created the directory split_data_transformed_longer_and_new/ eight\n",
      "Successfully created the directory split_data_transformed_longer_and_new/ eight\n",
      "Successfully created the directory split_data_transformed_longer_and_new/ eight\n",
      "Successfully created the directory split_data_transformed_longer_and_new/ flip\n",
      "Successfully created the directory split_data_transformed_longer_and_new/ flip\n",
      "Successfully created the directory split_data_transformed_longer_and_new/ flip\n",
      "Successfully created the directory split_data_transformed_longer_and_new/ horizontal-rotation\n",
      "Successfully created the directory split_data_transformed_longer_and_new/ horizontal-rotation\n",
      "Successfully created the directory split_data_transformed_longer_and_new/ horizontal-rotation\n",
      "Successfully created the directory split_data_transformed_longer_and_new/ horizontal-x-shake\n",
      "Successfully created the directory split_data_transformed_longer_and_new/ horizontal-x-shake\n",
      "Successfully created the directory split_data_transformed_longer_and_new/ horizontal-x-shake\n",
      "Successfully created the directory split_data_transformed_longer_and_new/ horizontal-y-shake\n",
      "Successfully created the directory split_data_transformed_longer_and_new/ horizontal-y-shake\n",
      "Successfully created the directory split_data_transformed_longer_and_new/ horizontal-y-shake\n",
      "Successfully created the directory split_data_transformed_longer_and_new/ infinity\n",
      "Successfully created the directory split_data_transformed_longer_and_new/ infinity\n",
      "Successfully created the directory split_data_transformed_longer_and_new/ infinity\n",
      "Successfully created the directory split_data_transformed_longer_and_new/ vertical-x-shake\n",
      "Successfully created the directory split_data_transformed_longer_and_new/ vertical-x-shake\n",
      "Successfully created the directory split_data_transformed_longer_and_new/ vertical-x-shake\n",
      "Successfully created the directory split_data_transformed_longer_and_new/ vertical-y-shake\n",
      "Successfully created the directory split_data_transformed_longer_and_new/ vertical-y-shake\n",
      "Successfully created the directory split_data_transformed_longer_and_new/ vertical-y-shake\n",
      "Successfully created the directory split_data_transformed_longer_and_new/ hold\n",
      "Successfully created the directory split_data_transformed_longer_and_new/ hold\n",
      "Successfully created the directory split_data_transformed_longer_and_new/ hold\n"
     ]
    }
   ],
   "source": [
    "for name in name_of_actions:\n",
    "    try:\n",
    "        os.mkdir(new_folder + name)\n",
    "    except OSError:\n",
    "        print (\"Creation of the directory %s failed\" % new_folder + name)\n",
    "        break\n",
    "    else:\n",
    "        print (\"Successfully created the directory %s \" % new_folder + name)\n",
    "    \n",
    "    try:\n",
    "        os.mkdir(new_folder + name + '/' + 'acc')\n",
    "    except OSError:\n",
    "        print (\"Creation of the directory %s failed\" % new_folder + name)\n",
    "        break\n",
    "    else:\n",
    "        print (\"Successfully created the directory %s \" % new_folder + name)\n",
    "    \n",
    "    try:\n",
    "        os.mkdir(new_folder + name + '/' + 'gyro')\n",
    "    except OSError:\n",
    "        print (\"Creation of the directory %s failed\" % new_folder + name)\n",
    "        break\n",
    "    else:\n",
    "        print (\"Successfully created the directory %s \" % new_folder + name)"
   ]
  },
  {
   "cell_type": "code",
   "execution_count": 18,
   "metadata": {},
   "outputs": [],
   "source": [
    "def split_file(filename, new_dir, from_i, to_i, ind):\n",
    "    list_of_data = []\n",
    "    with open(filename, newline='') as csvfile:\n",
    "        spamreader = csv.reader(csvfile, delimiter=',', quotechar='|')\n",
    "        cnt = 0\n",
    "        for row in spamreader:\n",
    "            if cnt > to_i:\n",
    "                break\n",
    "            if cnt < from_i:\n",
    "                cnt += 1\n",
    "                continue\n",
    "            cnt += 1\n",
    "            list_of_data.append(row[:3])\n",
    "    \n",
    "    new_filename = new_dir + str(ind) + exten\n",
    "    file = open(new_filename, 'w+')\n",
    "    writer = csv.writer(file)\n",
    "    for row in list_of_data:\n",
    "        writer.writerow(row)\n",
    "    file.close()"
   ]
  },
  {
   "cell_type": "code",
   "execution_count": 19,
   "metadata": {},
   "outputs": [],
   "source": [
    "answer_ind = 0\n",
    "for name in name_of_actions:\n",
    "    for t in type_of_data:\n",
    "        filename = folder + begin_string + t + '_' + name + exten\n",
    "        new_dir = new_folder + name + '/' + t + '/'\n",
    "        ind = 0\n",
    "        from_i = 0\n",
    "        to_i = step\n",
    "        while to_i <= 5912:\n",
    "            split_file(filename, new_dir, from_i, to_i, ind)\n",
    "            ind += 1\n",
    "            if to_i == step:\n",
    "                to_i += step\n",
    "            else:\n",
    "                to_i += step\n",
    "                from_i += step\n",
    "    \n",
    "    \n",
    "    answer = answer_context.copy()\n",
    "    answer[answer_ind] = 1\n",
    "    \n",
    "    answer_file = new_folder + name + '/' + \"answer\" + exten\n",
    "    file = open(answer_file, 'w+')\n",
    "    writer = csv.writer(file)\n",
    "    writer.writerow(answer)\n",
    "    file.close()\n",
    "    answer_ind += 1\n",
    "        \n",
    "        "
   ]
  }
 ],
 "metadata": {
  "kernelspec": {
   "display_name": "Python 3",
   "language": "python",
   "name": "python3"
  },
  "language_info": {
   "codemirror_mode": {
    "name": "ipython",
    "version": 3
   },
   "file_extension": ".py",
   "mimetype": "text/x-python",
   "name": "python",
   "nbconvert_exporter": "python",
   "pygments_lexer": "ipython3",
   "version": "3.7.4"
  }
 },
 "nbformat": 4,
 "nbformat_minor": 2
}
