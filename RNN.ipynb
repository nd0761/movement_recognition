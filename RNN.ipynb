{
 "cells": [
  {
   "cell_type": "code",
   "execution_count": 1,
   "metadata": {},
   "outputs": [
    {
     "name": "stderr",
     "output_type": "stream",
     "text": [
      "Using TensorFlow backend.\n"
     ]
    }
   ],
   "source": [
    "import tensorflow\n",
    "from tensorflow import keras\n",
    "import numpy as np\n",
    "import pandas as pd\n",
    "from numpy import mean\n",
    "from numpy import std\n",
    "from numpy import dstack\n",
    "from pandas import read_csv\n",
    "from keras.models import Sequential\n",
    "from keras.layers import Dense\n",
    "from keras.layers import Flatten\n",
    "from keras.layers import Dropout\n",
    "from keras.layers import LSTM\n",
    "from keras.layers import TimeDistributed\n",
    "from keras.layers import ConvLSTM2D\n",
    "from keras.utils import to_categorical\n",
    "from keras.callbacks import ModelCheckpoint\n",
    "from matplotlib import pyplot\n",
    "from sklearn.model_selection import train_test_split\n",
    "import os\n",
    "import time"
   ]
  },
  {
   "cell_type": "code",
   "execution_count": 5,
   "metadata": {},
   "outputs": [],
   "source": [
    "name_of_actions = [\"clockwise-rotation\", \"counterclockwise-rotation\", \"eight\", \n",
    "                   \"flip\", \"horizontal-rotation\", \"horizontal-x-shake\", \"horizontal-y-shake\", \n",
    "                   \"infinity\", \"vertical-x-shake\", \"vertical-y-shake\"]\n",
    "exten = \".csv\"\n",
    "type_of_data = [\"acc_\", \"gyro_\"]\n",
    "folder = \"split_data/\"\n",
    "\n",
    "step = 45\n",
    "start_ind = 1\n",
    "end_ind = 129\n",
    "\n",
    "model_dir = \"saved_model_dir/\"\n",
    "checkpoint_dir = \"model_checkpoint/\""
   ]
  },
  {
   "cell_type": "code",
   "execution_count": 6,
   "metadata": {},
   "outputs": [],
   "source": [
    "def load_answer_file(file):\n",
    "    dataframe = read_csv(file, header=None, delimiter=',')\n",
    "    return dataframe.to_numpy()"
   ]
  },
  {
   "cell_type": "code",
   "execution_count": 7,
   "metadata": {},
   "outputs": [],
   "source": [
    "def load_file(filepath):\n",
    "    name = filepath[0]\n",
    "    ind = str(filepath[1])\n",
    "    dataframe = read_csv(folder + name + '/acc/' + ind + exten, header=None, delimiter=',')\n",
    "    dataframe_gyro = read_csv(folder + name + '/gyro/' + ind + exten, header=None, delimiter=',')\n",
    "    dataframe = pd.concat([dataframe, dataframe_gyro], axis=1, sort=False)\n",
    "    return dataframe.to_numpy() "
   ]
  },
  {
   "cell_type": "code",
   "execution_count": 8,
   "metadata": {},
   "outputs": [],
   "source": [
    "def load_group(list_actions):\n",
    "    datas = list()\n",
    "    for name in list_actions:\n",
    "        datas.append(load_file(name))\n",
    "    return dstack(datas) #3d num array, размерности [samples, time steps, features] -> [ts, feat, sampl]"
   ]
  },
  {
   "cell_type": "code",
   "execution_count": 9,
   "metadata": {},
   "outputs": [
    {
     "name": "stdout",
     "output_type": "stream",
     "text": [
      "(91, 6, 1)\n"
     ]
    }
   ],
   "source": [
    "#checker\n",
    "list_file_names = [[name_of_actions[0], 1]]\n",
    "print(load_group(list_file_names).shape)\n",
    "#first(0) and last(130) files from folder contain not enought lines"
   ]
  },
  {
   "cell_type": "code",
   "execution_count": 10,
   "metadata": {},
   "outputs": [],
   "source": [
    "def load_dataset_group(action):\n",
    "    y = np.empty((0,10), int)\n",
    "    for place in action:\n",
    "        name = folder + place[0] + '/answer' + '.csv'\n",
    "        yy = load_answer_file(name)\n",
    "        y = np.append(y, yy, axis=0)\n",
    "    X = load_group(action)\n",
    "    #y = load_file(folder + action + '/answer' + '.csv') #my bad\n",
    "    return X, y"
   ]
  },
  {
   "cell_type": "code",
   "execution_count": 11,
   "metadata": {},
   "outputs": [],
   "source": [
    "def load_dataset(train, test): #get train and test\n",
    "    trainX, trainy = load_dataset_group(train)\n",
    "    testX, testy = load_dataset_group(test)\n",
    "    return trainX, trainy, testX, testy"
   ]
  },
  {
   "cell_type": "code",
   "execution_count": 9,
   "metadata": {},
   "outputs": [],
   "source": [
    "#checker\n",
    "#trainX, trainy, testX, testy = load_dataset()"
   ]
  },
  {
   "cell_type": "code",
   "execution_count": 10,
   "metadata": {},
   "outputs": [
    {
     "ename": "NameError",
     "evalue": "name 'test' is not defined",
     "output_type": "error",
     "traceback": [
      "\u001b[0;31m---------------------------------------------------------------------------\u001b[0m",
      "\u001b[0;31mNameError\u001b[0m                                 Traceback (most recent call last)",
      "\u001b[0;32m<ipython-input-10-5201dae41e41>\u001b[0m in \u001b[0;36m<module>\u001b[0;34m\u001b[0m\n\u001b[0;32m----> 1\u001b[0;31m \u001b[0mprint\u001b[0m\u001b[0;34m(\u001b[0m\u001b[0mtest\u001b[0m\u001b[0;34m.\u001b[0m\u001b[0mshape\u001b[0m\u001b[0;34m)\u001b[0m\u001b[0;34m\u001b[0m\u001b[0;34m\u001b[0m\u001b[0m\n\u001b[0m\u001b[1;32m      2\u001b[0m \u001b[0mprint\u001b[0m\u001b[0;34m(\u001b[0m\u001b[0mtrain\u001b[0m\u001b[0;34m.\u001b[0m\u001b[0mshape\u001b[0m\u001b[0;34m)\u001b[0m\u001b[0;34m\u001b[0m\u001b[0;34m\u001b[0m\u001b[0m\n",
      "\u001b[0;31mNameError\u001b[0m: name 'test' is not defined"
     ]
    }
   ],
   "source": [
    "print(test.shape)\n",
    "print(train.shape)"
   ]
  },
  {
   "cell_type": "code",
   "execution_count": 12,
   "metadata": {},
   "outputs": [],
   "source": [
    "def saved_model_to_lite(model_file, model):\n",
    "    converter = tf.lite.TFLiteConverter.from_saved_model(model_dir)\n",
    "    tflite_model = converter.convert()\n",
    "    open(model_file+\".tflite\", \"wb+\").write(tflite_model)"
   ]
  },
  {
   "cell_type": "code",
   "execution_count": 13,
   "metadata": {},
   "outputs": [],
   "source": [
    "def evaluate_model(trainX, trainy, testX, testy, ind):\n",
    "    epochs = 15\n",
    "    batch = 64\n",
    "    n_timesteps, n_features, n_outputs = trainX.shape[1], trainX.shape[2], trainy.shape[1]\n",
    "    model = Sequential()\n",
    "    model.add(LSTM(100, input_shape=(n_timesteps,n_features)))\n",
    "    model.add(Dropout(0.5))\n",
    "    model.add(Dense(100, activation='relu'))\n",
    "    model.add(Dense(n_outputs, activation='softmax')) #^layers\n",
    "    model.compile(loss='categorical_crossentropy', optimizer='adam', metrics=['accuracy']) #accuracy\n",
    "    \n",
    "    \n",
    "    \n",
    "    if not os.path.isdir('./' + checkpoint_dir + str(ind)):\n",
    "        try:\n",
    "            os.mkdir(checkpoint_dir + str(ind))\n",
    "        except OSError:\n",
    "            print (\"Creation of the directory %s failed\" % checkpoint_dir + str(ind))\n",
    "        else:\n",
    "            print (\"Successfully created the directory %s \" % checkpoint_dir + str(ind))\n",
    "    \n",
    "    filename = checkpoint_dir + str(ind) + '/' + \"cp-{epoch:04d}.ckpt\"\n",
    "    filepath = os.path.dirname(filename)\n",
    "    \n",
    "    cp_callback = ModelCheckpoint(filepath=filename,\n",
    "                                 save_weights_only=True,\n",
    "                                 verbose=1,\n",
    "                                 period=5)\n",
    "    \n",
    "    \n",
    "    model.fit(trainX, trainy, epochs=epochs, batch_size=batch, verbose=0, callbacks=[cp_callback])\n",
    "    \n",
    "    saved_model_path = checkpoint_dir + str(ind) + '/model.h5'\n",
    "    model.save(saved_model_path)\n",
    "    \n",
    "    a,accuracy = model.evaluate(testX, testy, batch_size=batch, verbose=0)\n",
    "    return accuracy"
   ]
  },
  {
   "cell_type": "code",
   "execution_count": 14,
   "metadata": {},
   "outputs": [],
   "source": [
    "def summarize_results(scores):\n",
    "    print(scores)\n",
    "    m, s = mean(scores), std(scores)\n",
    "    print('Accuracy: %.3f%% (+/-%.3f)' % (m, s))"
   ]
  },
  {
   "cell_type": "code",
   "execution_count": 15,
   "metadata": {},
   "outputs": [],
   "source": [
    "def run_experiment(trainX, trainy, testX, testy, repeats=10):\n",
    "    \n",
    "    scores = list()\n",
    "    for r in range(repeats):\n",
    "        score = evaluate_model(trainX, trainy, testX, testy, r) * 100.0\n",
    "        print('>#%d: %.3f' % (r+1, score))\n",
    "        scores.append(score)\n",
    "    summarize_results(scores)"
   ]
  },
  {
   "cell_type": "code",
   "execution_count": 16,
   "metadata": {},
   "outputs": [],
   "source": [
    "list_of_all_actions = list()\n",
    "\n",
    "for name in name_of_actions:\n",
    "    for ind in range(start_ind, end_ind + 1):\n",
    "        list_of_all_actions.append([name, ind])\n",
    "\n",
    "train, test = train_test_split(list_of_all_actions, test_size=0.33, random_state=42)\n",
    "trainX, trainy, testX, testy = load_dataset(train, test)"
   ]
  },
  {
   "cell_type": "code",
   "execution_count": 17,
   "metadata": {},
   "outputs": [],
   "source": [
    "trainXm = np.moveaxis(trainX, -1, 0)\n",
    "testXm = np.moveaxis(testX, -1, 0)"
   ]
  },
  {
   "cell_type": "code",
   "execution_count": 38,
   "metadata": {},
   "outputs": [
    {
     "name": "stdout",
     "output_type": "stream",
     "text": [
      "\n",
      "Epoch 00005: saving model to model_checkpoint/0/cp-0005.ckpt\n",
      "\n",
      "Epoch 00010: saving model to model_checkpoint/0/cp-0010.ckpt\n",
      "\n",
      "Epoch 00015: saving model to model_checkpoint/0/cp-0015.ckpt\n",
      ">#1: 86.385\n",
      "Successfully created the directory model_checkpoint/ 1\n",
      "\n",
      "Epoch 00005: saving model to model_checkpoint/1/cp-0005.ckpt\n",
      "\n",
      "Epoch 00010: saving model to model_checkpoint/1/cp-0010.ckpt\n",
      "\n",
      "Epoch 00015: saving model to model_checkpoint/1/cp-0015.ckpt\n",
      ">#2: 93.192\n",
      "Successfully created the directory model_checkpoint/ 2\n",
      "\n",
      "Epoch 00005: saving model to model_checkpoint/2/cp-0005.ckpt\n",
      "\n",
      "Epoch 00010: saving model to model_checkpoint/2/cp-0010.ckpt\n",
      "\n",
      "Epoch 00015: saving model to model_checkpoint/2/cp-0015.ckpt\n",
      ">#3: 96.009\n",
      "Successfully created the directory model_checkpoint/ 3\n",
      "\n",
      "Epoch 00005: saving model to model_checkpoint/3/cp-0005.ckpt\n",
      "\n",
      "Epoch 00010: saving model to model_checkpoint/3/cp-0010.ckpt\n",
      "\n",
      "Epoch 00015: saving model to model_checkpoint/3/cp-0015.ckpt\n",
      ">#4: 97.418\n",
      "Successfully created the directory model_checkpoint/ 4\n",
      "\n",
      "Epoch 00005: saving model to model_checkpoint/4/cp-0005.ckpt\n",
      "\n",
      "Epoch 00010: saving model to model_checkpoint/4/cp-0010.ckpt\n",
      "\n",
      "Epoch 00015: saving model to model_checkpoint/4/cp-0015.ckpt\n",
      ">#5: 95.305\n",
      "Successfully created the directory model_checkpoint/ 5\n",
      "\n",
      "Epoch 00005: saving model to model_checkpoint/5/cp-0005.ckpt\n",
      "\n",
      "Epoch 00010: saving model to model_checkpoint/5/cp-0010.ckpt\n",
      "\n",
      "Epoch 00015: saving model to model_checkpoint/5/cp-0015.ckpt\n",
      ">#6: 87.089\n",
      "Successfully created the directory model_checkpoint/ 6\n",
      "\n",
      "Epoch 00005: saving model to model_checkpoint/6/cp-0005.ckpt\n",
      "\n",
      "Epoch 00010: saving model to model_checkpoint/6/cp-0010.ckpt\n",
      "\n",
      "Epoch 00015: saving model to model_checkpoint/6/cp-0015.ckpt\n",
      ">#7: 86.620\n",
      "Successfully created the directory model_checkpoint/ 7\n",
      "\n",
      "Epoch 00005: saving model to model_checkpoint/7/cp-0005.ckpt\n",
      "\n",
      "Epoch 00010: saving model to model_checkpoint/7/cp-0010.ckpt\n",
      "\n",
      "Epoch 00015: saving model to model_checkpoint/7/cp-0015.ckpt\n",
      ">#8: 96.009\n",
      "Successfully created the directory model_checkpoint/ 8\n",
      "\n",
      "Epoch 00005: saving model to model_checkpoint/8/cp-0005.ckpt\n",
      "\n",
      "Epoch 00010: saving model to model_checkpoint/8/cp-0010.ckpt\n",
      "\n",
      "Epoch 00015: saving model to model_checkpoint/8/cp-0015.ckpt\n",
      ">#9: 98.122\n",
      "Successfully created the directory model_checkpoint/ 9\n",
      "\n",
      "Epoch 00005: saving model to model_checkpoint/9/cp-0005.ckpt\n",
      "\n",
      "Epoch 00010: saving model to model_checkpoint/9/cp-0010.ckpt\n",
      "\n",
      "Epoch 00015: saving model to model_checkpoint/9/cp-0015.ckpt\n",
      ">#10: 93.662\n",
      "[86.38497591018677, 93.19248795509338, 96.00939154624939, 97.41784334182739, 95.30516266822815, 87.08920478820801, 86.61971688270569, 96.00939154624939, 98.12206625938416, 93.66196990013123]\n",
      "Accuracy: 92.981% (+/-4.348)\n"
     ]
    }
   ],
   "source": [
    "run_experiment(trainXm, trainy, testXm, testy, 10)"
   ]
  },
  {
   "cell_type": "code",
   "execution_count": 43,
   "metadata": {},
   "outputs": [],
   "source": [
    "epochs = 15\n",
    "batch = 64\n",
    "n_timesteps, n_features, n_outputs = trainXm.shape[1], trainXm.shape[2], trainy.shape[1]\n",
    "model = Sequential()\n",
    "model.add(LSTM(100, input_shape=(n_timesteps,n_features)))\n",
    "model.add(Dropout(0.5))\n",
    "model.add(Dense(100, activation='relu'))\n",
    "model.add(Dense(n_outputs, activation='softmax')) #^layers\n",
    "model.compile(loss='categorical_crossentropy', optimizer='adam', metrics=['accuracy']) #accuracy\n",
    "model.load_weights(\"model_checkpoint/7/model.h5\")"
   ]
  },
  {
   "cell_type": "code",
   "execution_count": 50,
   "metadata": {},
   "outputs": [
    {
     "name": "stdout",
     "output_type": "stream",
     "text": [
      "91 6 10\n"
     ]
    }
   ],
   "source": [
    "print(n_timesteps, n_features, n_outputs)"
   ]
  },
  {
   "cell_type": "code",
   "execution_count": 49,
   "metadata": {},
   "outputs": [
    {
     "name": "stdout",
     "output_type": "stream",
     "text": [
      "0\n",
      "7\n"
     ]
    }
   ],
   "source": [
    "ind = 120\n",
    "cnt = 0\n",
    "for ind in range(425):\n",
    "    new_input = dstack(np.moveaxis(trainXm[ind], -1, 0))\n",
    "    real_output = trainy[ind]\n",
    "\n",
    "    new_output = model.predict(new_input)\n",
    "    ans = 0\n",
    "    for i in range(10):\n",
    "        if new_output[0][i] > new_output[0][ans]:\n",
    "            ans = i\n",
    "    if real_output[ans] != 1:\n",
    "        cnt += 1\n",
    "    elif ans != 2 and ans != 3:\n",
    "        print(ind)\n",
    "        print(ans)\n",
    "        break\n"
   ]
  },
  {
   "cell_type": "code",
   "execution_count": 48,
   "metadata": {},
   "outputs": [
    {
     "name": "stdout",
     "output_type": "stream",
     "text": [
      "[[-14.49785155 -20.31543249  -3.72453493   2.88608355  -0.74083905\n",
      "   -2.56278424]\n",
      " [-14.06730472 -21.94692813  -7.03637897   4.23682588  -0.50969512\n",
      "   -2.21977813]\n",
      " [-13.69388178 -22.51497963 -11.82785252   5.17318527  -0.34778031\n",
      "   -1.90341386]\n",
      " [-14.88548608 -21.91168256 -16.64942498   5.50979795  -0.72489749\n",
      "   -1.66692935]\n",
      " [-15.19773232 -20.10333025 -17.96609317   5.23601329  -1.73690235\n",
      "   -1.5284673 ]\n",
      " [-17.58885792 -19.89735868 -17.60397985   4.60749231  -2.1779386\n",
      "   -1.49971594]\n",
      " [-19.20121569 -20.43717379 -16.11699862   4.01838478  -2.00537315\n",
      "   -0.9319326 ]\n",
      " [-17.8174244  -20.49222861 -15.79843794   3.67323477  -1.35024851\n",
      "   -0.04458444]\n",
      " [-16.45316221 -20.22833468 -16.36122682   3.25031071  -0.35103816\n",
      "    0.71600895]\n",
      " [-16.69077199 -20.3691439  -16.81634181   2.643091     0.61300067\n",
      "    1.3519533 ]\n",
      " [-17.05122956 -19.9833227  -17.79249581   2.16798188   0.75893952\n",
      "    2.11361482]\n",
      " [-16.16238808 -18.82081484 -18.60829138   1.98474288  -0.29675126\n",
      "    2.74423385]\n",
      " [-15.40317622 -18.47391119 -18.87309113   2.11150144  -2.0981238\n",
      "    3.06912778]\n",
      " [-14.45465618 -17.77324396 -19.96558624   2.33413097  -3.69922474\n",
      "    3.26938793]\n",
      " [-13.77512618 -17.56796666 -21.3335106    2.3330514   -4.72722082\n",
      "    3.33329554]\n",
      " [-13.97215735 -17.97966181 -21.59230601   1.93463295  -4.90832359\n",
      "    3.35351723]\n",
      " [-14.50291921 -18.94363834 -20.39652778   1.17934195  -4.23615487\n",
      "    3.48346488]\n",
      " [-13.97054498 -18.36799399 -19.50777833   0.55082097  -3.65559993\n",
      "    3.75722661]\n",
      " [-12.38823444 -16.79558999 -20.32005674   0.3697182   -4.06254803\n",
      "    3.89996112]\n",
      " [-11.85596081 -16.74891779 -20.82240531   0.18541109  -4.60796965\n",
      "    3.83390962]\n",
      " [-11.59917556 -16.89740788 -20.89017354  -0.30462112  -4.50251236\n",
      "    3.76679001]\n",
      " [-10.56255413 -16.10130764 -20.04519392  -0.81914369  -4.43648378\n",
      "    3.67089232]\n",
      " [ -9.93785086 -15.88741269 -19.51473942  -1.01623767  -4.8103966\n",
      "    3.42374951]\n",
      " [ -9.66733603 -15.77664916 -18.58641677  -1.34647984  -4.66340489\n",
      "    3.11587673]\n",
      " [-10.27950353 -15.36168271 -17.85605782  -1.73424765  -4.24477621\n",
      "    2.73875955]\n",
      " [-11.39508517 -15.16777535 -17.9201916   -1.86954353  -4.44292305\n",
      "    2.43621208]\n",
      " [-11.23100802 -15.20749781 -17.92447183  -1.84825372  -5.06611871\n",
      "    2.29345465]\n",
      " [-11.08175193 -15.40352414 -17.58071338  -1.9792924   -5.28343058\n",
      "    2.16027974]\n",
      " [-10.17291116 -15.38150048 -17.15380692  -2.3116708   -5.00647976\n",
      "    1.99942539]\n",
      " [ -9.25997294 -15.05855001 -16.80909861  -2.80382399  -4.38757948\n",
      "    1.7192473 ]\n",
      " [ -7.85867263 -14.14804806 -17.08634617  -3.44726806  -3.54283386\n",
      "    1.31548829]\n",
      " [ -6.47018065 -13.73204633 -18.57991853  -4.03956468  -3.22538621\n",
      "    0.65182631]\n",
      " [ -7.50990179 -15.06526938 -18.25246695  -4.71282443  -3.50237521\n",
      "   -0.11944064]\n",
      " [ -9.02123205 -15.94304363 -14.45059387  -5.63214741  -3.06029377\n",
      "   -0.49867878]\n",
      " [ -9.75627903 -15.77899413 -12.96147732  -6.23190557  -2.0152918\n",
      "   -0.84384405]\n",
      " [-12.53976242 -17.09427063 -15.00760381  -6.43112052  -1.69572318\n",
      "   -1.35198844]\n",
      " [-14.00404822 -19.12214022 -15.81318789  -6.92968239  -1.81397499\n",
      "   -1.23801674]\n",
      " [-12.28624993 -19.45159714 -13.3973717   -7.56778589  -1.72450891\n",
      "   -0.68727747]\n",
      " [-13.04106062 -13.70401626 -14.25832706  -1.18367259  -1.78416698\n",
      "   -1.01965587]\n",
      " [-12.76189642 -13.46996849 -14.62716453  -1.21670407  -1.74796933\n",
      "   -1.04203671]\n",
      " [-13.10284548 -13.97482519 -14.53631048  -1.4574687   -1.44330855\n",
      "   -1.17733259]\n",
      " [-13.63467137 -14.10234348 -13.79348795  -1.59276458  -1.37088653\n",
      "   -1.18373748]\n",
      " [-13.51667736 -13.83951096 -13.79854206  -1.68545792  -1.13440202\n",
      "   -1.10705827]\n",
      " [-12.87990085 -13.48176971 -15.15667835  -1.78134035  -1.108855\n",
      "   -1.07298159]\n",
      " [-13.03859362 -13.08454254 -14.71338918  -1.63753772  -2.14322925\n",
      "   -1.30840564]\n",
      " [-14.3396696  -13.83847322 -13.32338704  -1.19759252  -3.45351293\n",
      "   -1.56835057]\n",
      " [-14.78393341 -15.2302518  -13.27836896  -1.07190207  -3.54620627\n",
      "   -1.36062888]\n",
      " [-13.64473951 -14.66142761 -16.09436333  -1.6183918   -2.16030769\n",
      "   -0.91110115]\n",
      " [-13.66097091 -14.1435449  -16.92139314  -2.49299127  -1.52115899\n",
      "   -0.8173626 ]\n",
      " [-15.0642452  -14.49751029 -13.34709105  -3.00113566  -1.77045328\n",
      "   -0.71192057]\n",
      " [-13.50260468 -14.54991289 -11.37975689  -2.73269924  -1.99415859\n",
      "   -0.34547695]\n",
      " [-13.40691716 -15.04062707 -12.57809741  -2.37158093  -1.64477429\n",
      "   -0.30074963]\n",
      " [-13.78382103 -14.71086805 -15.31067102  -2.50794493  -0.82558714\n",
      "   -0.28904234]\n",
      " [-14.77838305 -14.72505453 -15.86475304  -3.0768193   -0.47406661\n",
      "   -0.37427413]\n",
      " [-14.2960266  -14.52393426 -14.30293406  -3.48588837  -0.41762055\n",
      "   -0.33380402]\n",
      " [-12.88376807 -13.74005579 -15.01330995  -3.51678362  -0.18327227\n",
      "   -0.45844927]\n",
      " [-13.61437163 -14.15379462 -16.24914512  -3.42624942  -0.68715945\n",
      "   -0.91334048]\n",
      " [-15.33038754 -15.30521579 -14.78471727  -3.36554615  -1.63524525\n",
      "   -1.17008107]\n",
      " [-15.54604845 -15.40802698 -13.60228233  -3.38153356  -1.73114294\n",
      "   -0.9133634 ]\n",
      " [-13.58701696 -14.76904084 -13.29146566  -3.47741599  -1.49040122\n",
      "   -0.65025229]\n",
      " [-12.46756625 -14.46438866  -9.62586116  -3.43375679  -1.6491346\n",
      "   -0.72695442]\n",
      " [-13.07233271 -14.54446861  -5.7794095   -2.8659887   -1.52983758\n",
      "   -0.88356683]\n",
      " [-13.09340543 -14.58730501  -2.8903057   -1.66543864  -1.68110941\n",
      "   -0.87185954]\n",
      " [-12.51128105 -15.47219995  -2.48849324  -0.15916347  -1.70881557\n",
      "   -0.85163784]\n",
      " [-13.30571926 -16.3894738   -5.85047567   0.90608692  -1.03664685\n",
      "   -0.76429272]\n",
      " [-11.98658893 -16.18266365  -6.70853183   1.31301211  -0.4752722\n",
      "   -0.50224974]\n",
      " [-11.17922216 -16.30322414  -5.20256096   1.94469926  -0.3421202\n",
      "   -0.57576278]\n",
      " [-12.30532732 -17.9665791   -6.61843553   3.40516754  -0.97383026\n",
      "   -0.92518524]\n",
      " [-13.5318694  -19.75344633 -10.68579077   4.76868148  -1.93151384\n",
      "   -1.11800676]\n",
      " [-14.0341347  -20.45139344 -14.75113757   4.97214597  -1.58106142\n",
      "   -1.14997011]\n",
      " [-14.36781565 -19.82622234 -16.66416446   4.35960095  -0.55948169\n",
      "   -0.97421558]\n",
      " [-15.82771945 -20.05356407 -17.58026027   3.96650783  -0.44444188\n",
      "   -0.72708043]\n",
      " [-16.99052365 -21.11386402 -16.35247954   3.85783854  -0.98134908\n",
      "   -0.30312643]\n",
      " [-17.11244432 -22.13752285 -16.84080092   3.98778619  -1.27963934\n",
      "    0.29874505]\n",
      " [-15.84465551 -21.54391503 -18.51436495   3.83970345  -1.18271171\n",
      "    0.93468941]\n",
      " [-15.39955289 -20.55061753 -17.52453501   3.30493247  -0.82052529\n",
      "    1.38209617]\n",
      " [-17.04608145 -20.91560021 -17.43573132   2.8916062   -0.51481165\n",
      "    1.86890112]\n",
      " [-16.20037649 -20.67958782 -18.41896532   2.80849538  -1.17848887\n",
      "    2.56557546]\n",
      " [-14.89941412 -19.79338318 -19.01289755   2.91074833  -2.49516597\n",
      "    2.94906315]\n",
      " [-15.88797725 -20.20594371 -20.16858114   2.75201496  -3.18226544\n",
      "    3.17169269]\n",
      " [-16.1894786  -20.85617944 -20.17834922   2.00525362  -3.0065109\n",
      "    3.70537264]\n",
      " [-15.73850563 -22.47020224 -17.58659771   1.46622545  -3.18974989\n",
      "    4.39032823]\n",
      " [-14.49815164 -22.61639199 -17.35988293   1.50774842  -3.65101928\n",
      "    5.09551697]\n",
      " [-11.52427761 -19.47882168 -20.85615723   1.49815445  -4.0164177\n",
      "    5.51735   ]\n",
      " [ -9.49835395 -17.56352924 -23.89107799   0.97403411  -4.29978486\n",
      "    5.38312224]\n",
      " [ -8.67316633 -17.54031783 -23.99467283  -0.05289385  -4.13468096\n",
      "    4.97084882]\n",
      " [ -8.65487015 -17.44484985 -23.064767    -1.04999088  -4.00899051\n",
      "    4.49360349]\n",
      " [ -8.40974921 -17.27068156 -21.77913064  -1.89794849  -4.02604603\n",
      "    4.07281567]\n",
      " [ -8.05115724 -17.16255808 -19.48789049  -2.54458165  -4.15815282\n",
      "    3.66054225]\n",
      " [ -8.40762836 -16.82155878 -17.89110357  -2.84926535  -4.41063619\n",
      "    3.23868632]\n",
      " [ -8.46028364 -16.32740605 -17.31765879  -3.03143622  -4.61410834\n",
      "    2.89033197]]\n"
     ]
    }
   ],
   "source": [
    "print(trainXm[0])"
   ]
  },
  {
   "cell_type": "code",
   "execution_count": null,
   "metadata": {},
   "outputs": [],
   "source": []
  }
 ],
 "metadata": {
  "kernelspec": {
   "display_name": "Python 3",
   "language": "python",
   "name": "python3"
  },
  "language_info": {
   "codemirror_mode": {
    "name": "ipython",
    "version": 3
   },
   "file_extension": ".py",
   "mimetype": "text/x-python",
   "name": "python",
   "nbconvert_exporter": "python",
   "pygments_lexer": "ipython3",
   "version": "3.7.4"
  }
 },
 "nbformat": 4,
 "nbformat_minor": 2
}
